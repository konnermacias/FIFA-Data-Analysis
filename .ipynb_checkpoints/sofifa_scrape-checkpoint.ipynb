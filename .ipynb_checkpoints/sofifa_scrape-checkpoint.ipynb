{
 "cells": [
  {
   "cell_type": "code",
   "execution_count": 1,
   "metadata": {},
   "outputs": [],
   "source": [
    "from bs4 import BeautifulSoup as bs\n",
    "import requests\n",
    "import re"
   ]
  },
  {
   "cell_type": "code",
   "execution_count": 2,
   "metadata": {},
   "outputs": [],
   "source": [
    "url = 'https://sofifa.com/players?offset=0'"
   ]
  },
  {
   "cell_type": "code",
   "execution_count": 3,
   "metadata": {},
   "outputs": [],
   "source": [
    "def soup_maker(url):\n",
    "    r = requests.get(url)\n",
    "    markup = r.content\n",
    "    soup = bs(markup, 'lxml')\n",
    "    return soup"
   ]
  },
  {
   "cell_type": "markdown",
   "metadata": {},
   "source": [
    "# Scratch Work"
   ]
  },
  {
   "cell_type": "code",
   "execution_count": 4,
   "metadata": {},
   "outputs": [],
   "source": [
    "soup = soup_maker(url)"
   ]
  },
  {
   "cell_type": "code",
   "execution_count": 5,
   "metadata": {},
   "outputs": [
    {
     "name": "stdout",
     "output_type": "stream",
     "text": [
      "{'short_name': 'L. Messi', 'link': 'http://sofifa.com/player/158023/lionel-messi/'}\n",
      "{'short_name': 'Cristiano Ronaldo', 'link': 'http://sofifa.com/player/20801/c-ronaldo-dos-santos-aveiro/'}\n",
      "{'short_name': 'Neymar Jr', 'link': 'http://sofifa.com/player/190871/neymar-da-silva-santos-jr/'}\n",
      "{'short_name': 'De Gea', 'link': 'http://sofifa.com/player/193080/david-de-gea-quintana/'}\n",
      "{'short_name': 'K. De Bruyne', 'link': 'http://sofifa.com/player/192985/kevin-de-bruyne/'}\n",
      "{'short_name': 'E. Hazard', 'link': 'http://sofifa.com/player/183277/eden-hazard/'}\n",
      "{'short_name': 'L. Modrić', 'link': 'http://sofifa.com/player/177003/luka-modric/'}\n",
      "{'short_name': 'L. Suárez', 'link': 'http://sofifa.com/player/176580/luis-suarez/'}\n",
      "{'short_name': 'H. Kane', 'link': 'http://sofifa.com/player/202126/harry-kane/'}\n",
      "{'short_name': 'J. Oblak', 'link': 'http://sofifa.com/player/200389/jan-oblak/'}\n",
      "{'short_name': 'R. Lewandowski', 'link': 'http://sofifa.com/player/188545/robert-lewandowski/'}\n",
      "{'short_name': 'T. Kroos', 'link': 'http://sofifa.com/player/182521/toni-kroos/'}\n",
      "{'short_name': 'D. Godín', 'link': 'http://sofifa.com/player/182493/diego-godin/'}\n",
      "{'short_name': 'David Silva', 'link': 'http://sofifa.com/player/168542/david-josue-jimenez-silva/'}\n",
      "{'short_name': 'Sergio Ramos', 'link': 'http://sofifa.com/player/155862/sergio-ramos-garcia/'}\n",
      "{'short_name': 'G. Chiellini', 'link': 'http://sofifa.com/player/138956/giorgio-chiellini/'}\n",
      "{'short_name': 'N. Kanté', 'link': 'http://sofifa.com/player/215914/ngolo-kante/'}\n",
      "{'short_name': 'P. Dybala', 'link': 'http://sofifa.com/player/211110/paulo-dybala/'}\n",
      "{'short_name': 'M. Salah', 'link': 'http://sofifa.com/player/209331/mohamed-salah/'}\n",
      "{'short_name': 'A. Griezmann', 'link': 'http://sofifa.com/player/194765/antoine-griezmann/'}\n",
      "{'short_name': 'M. ter Stegen', 'link': 'http://sofifa.com/player/192448/marc-andre-ter-stegen/'}\n",
      "{'short_name': 'T. Courtois', 'link': 'http://sofifa.com/player/192119/thibaut-courtois/'}\n",
      "{'short_name': 'Sergio Busquets', 'link': 'http://sofifa.com/player/189511/sergio-busquets-burgos/'}\n",
      "{'short_name': 'E. Cavani', 'link': 'http://sofifa.com/player/179813/edinson-cavani/'}\n",
      "{'short_name': 'M. Neuer', 'link': 'http://sofifa.com/player/167495/manuel-neuer/'}\n",
      "{'short_name': 'S. Agüero', 'link': 'http://sofifa.com/player/153079/sergio-aguero/'}\n",
      "{'short_name': 'K. Mbappé', 'link': 'http://sofifa.com/player/231747/kylian-mbappe/'}\n",
      "{'short_name': 'V. van Dijk', 'link': 'http://sofifa.com/player/203376/virgil-van-dijk/'}\n",
      "{'short_name': 'K. Koulibaly', 'link': 'http://sofifa.com/player/201024/kalidou-koulibaly/'}\n",
      "{'short_name': 'L. Insigne', 'link': 'http://sofifa.com/player/198219/lorenzo-insigne/'}\n",
      "{'short_name': 'C. Eriksen', 'link': 'http://sofifa.com/player/190460/christian-eriksen/'}\n",
      "{'short_name': 'Coutinho', 'link': 'http://sofifa.com/player/189242/philippe-coutinho-correia/'}\n",
      "{'short_name': 'P. Aubameyang', 'link': 'http://sofifa.com/player/188567/pierre-emerick-aubameyang/'}\n",
      "{'short_name': 'M. Reus', 'link': 'http://sofifa.com/player/188350/marco-reus/'}\n",
      "{'short_name': 'M. Hummels', 'link': 'http://sofifa.com/player/178603/mats-hummels/'}\n",
      "{'short_name': 'G. Bale', 'link': 'http://sofifa.com/player/173731/gareth-bale/'}\n",
      "{'short_name': 'H. Lloris', 'link': 'http://sofifa.com/player/167948/hugo-lloris/'}\n",
      "{'short_name': 'Thiago Silva', 'link': 'http://sofifa.com/player/164240/thiago-emiliano-da-silva/'}\n",
      "{'short_name': 'S. Handanovič', 'link': 'http://sofifa.com/player/162835/samir-handanovic/'}\n",
      "{'short_name': 'G. Buffon', 'link': 'http://sofifa.com/player/1179/gianluigi-buffon/'}\n",
      "{'short_name': 'Alisson', 'link': 'http://sofifa.com/player/212831/alisson-ramses-becker/'}\n",
      "{'short_name': 'S. Umtiti', 'link': 'http://sofifa.com/player/205600/samuel-umtiti/'}\n",
      "{'short_name': 'R. Sterling', 'link': 'http://sofifa.com/player/202652/raheem-sterling/'}\n",
      "{'short_name': 'M. Icardi', 'link': 'http://sofifa.com/player/201399/mauro-icardi/'}\n",
      "{'short_name': 'Casemiro', 'link': 'http://sofifa.com/player/200145/carlos-henrique-venancio-casimiro/'}\n",
      "{'short_name': 'J. Rodríguez', 'link': 'http://sofifa.com/player/198710/james-rodriguez/'}\n",
      "{'short_name': 'Isco', 'link': 'http://sofifa.com/player/197781/francisco-roman-alarcon-suarez/'}\n",
      "{'short_name': 'P. Pogba', 'link': 'http://sofifa.com/player/195864/paul-pogba/'}\n",
      "{'short_name': 'K. Navas', 'link': 'http://sofifa.com/player/193041/keylor-navas/'}\n",
      "{'short_name': 'C. Immobile', 'link': 'http://sofifa.com/player/192387/ciro-immobile/'}\n",
      "{'short_name': 'Thiago', 'link': 'http://sofifa.com/player/189509/thiago-alcantara/'}\n",
      "{'short_name': 'Jordi Alba', 'link': 'http://sofifa.com/player/189332/jordi-alba-ramos/'}\n",
      "{'short_name': 'T. Alderweireld', 'link': 'http://sofifa.com/player/184087/toby-alderweireld/'}\n",
      "{'short_name': 'Marcelo', 'link': 'http://sofifa.com/player/176676/marcelo-vieira-da-silva/'}\n",
      "{'short_name': 'D. Mertens', 'link': 'http://sofifa.com/player/175943/dries-mertens/'}\n",
      "{'short_name': 'J. Vertonghen', 'link': 'http://sofifa.com/player/172871/jan-vertonghen/'}\n",
      "{'short_name': 'I. Rakitić', 'link': 'http://sofifa.com/player/168651/ivan-rakitic/'}\n",
      "{'short_name': 'G. Higuaín', 'link': 'http://sofifa.com/player/167664/gonzalo-higuain/'}\n",
      "{'short_name': 'Piqué', 'link': 'http://sofifa.com/player/152729/gerard-pique-bernabeu/'}\n",
      "{'short_name': 'Fernandinho', 'link': 'http://sofifa.com/player/135507/fernando-luiz-rosa/'}\n",
      "{'short_name': 'M. Škriniar', 'link': 'http://sofifa.com/player/232363/milan-skriniar/'}\n"
     ]
    }
   ],
   "source": [
    "scraped_data = []\n",
    "tbl = soup.find('table',{'class':'table table-hover persist-area'})\n",
    "tbdy = tbl.find('tbody')\n",
    "all_a = tbdy.find_all('a', {'rel':None})\n",
    "player_details = {}\n",
    "# players on every other index\n",
    "for i, lnk in enumerate(all_a):\n",
    "    if i % 2 == 0:\n",
    "        player_details['short_name'] = lnk.text\n",
    "        #player_details.update(get_player_details('http://sofifa.com' + lnk['href']))\n",
    "        player_details['link'] = 'http://sofifa.com' + lnk['href']\n",
    "        print(player_details)\n",
    "        scraped_data.append(player_details)"
   ]
  },
  {
   "cell_type": "code",
   "execution_count": 6,
   "metadata": {},
   "outputs": [
    {
     "name": "stdout",
     "output_type": "stream",
     "text": [
      "{'pref_pos': 'ST', 'full_name': 'C. Ronaldo dos Santos Aveiro (Cristiano Ronaldo dos Santos Aveiro)', 'age': 33, 'height': \"6'2\", 'weight': '183lbs'}\n"
     ]
    }
   ],
   "source": [
    "all_deets = {}\n",
    "soup = soup_maker('http://sofifa.com/player/20801/c-ronaldo-dos-santos-aveiro/')\n",
    "plyr_info = soup.find('div', {'class':'player'})\n",
    "\n",
    "# find_plyr_info\n",
    "plyr_dat = {} # prepare dictionary for player data\n",
    "ply_inf = plyr_info.find('div', {'class':'meta'}) # grab section with player data\n",
    "infos = ply_inf.text\n",
    "data_str = infos[infos.index('Age') + 4:] # grab all data in str to right of Age like height and weight\n",
    "\n",
    "# set variables\n",
    "plyr_dat['pref_pos'] = ply_inf.find('span').text\n",
    "plyr_dat['full_name'] = ply_inf.text[0:ply_inf.text.find(plyr_dat['pref_pos'])-2].strip()\n",
    "plyr_dat['age'] = int(data_str[:2])\n",
    "plyr_dat['height'] = data_str[data_str.index(')') + 2:].split(' ')[0].replace('\\\"','')\n",
    "plyr_dat['weight'] = data_str[data_str.index(')') + 2:].split(' ')[1]\n",
    "print(plyr_dat)"
   ]
  },
  {
   "cell_type": "code",
   "execution_count": 7,
   "metadata": {},
   "outputs": [
    {
     "name": "stdout",
     "output_type": "stream",
     "text": [
      "{'rating': 94, 'potential': 94, 'value': 77000000, 'wage': 405000}\n"
     ]
    }
   ],
   "source": [
    "plyr_data = {}\n",
    "soup = soup_maker('http://sofifa.com/player/20801/c-ronaldo-dos-santos-aveiro/')\n",
    "plyr_stats = soup.find('div', {'class':'stats'})\n",
    "plyr_val = plyr_stats.text[plyr_stats.text.find('€'):].split('\\n')[0]\n",
    "info = re.findall('\\d+', plyr_stats.text)\n",
    "plyr_data['rating'] = int(info[0])\n",
    "plyr_data['potential'] = int(info[1])\n",
    "\n",
    "if 'M' in plyr_val:\n",
    "    plyr_data['value'] = int(plyr_val[1:plyr_val.index('M')])*1000000\n",
    "elif 'K' in plyr_val:\n",
    "    plyr_data['value'] = int(plyr_val[1:plyr_val.index('K')])*1000\n",
    "\n",
    "plyr_data['wage'] = int(info[3])*1000\n",
    "\n",
    "print(plyr_data)"
   ]
  },
  {
   "cell_type": "markdown",
   "metadata": {},
   "source": [
    "# Ok, now let's turn this work into functions"
   ]
  },
  {
   "cell_type": "code",
   "execution_count": 8,
   "metadata": {},
   "outputs": [],
   "source": [
    "def gather_basic_info(soup):\n",
    "    plyr_dat = {} # prepare dictionary for player data\n",
    "    ply_inf = soup.find('div', {'class':'meta'}) # grab section with player data\n",
    "    infos = ply_inf.text\n",
    "    data_str = infos[infos.index('Age') + 4:] # grab all data in str to right of Age like height and weight\n",
    "\n",
    "    # set variables\n",
    "    plyr_dat['pref_pos'] = ply_inf.find('span').text\n",
    "    plyr_dat['full_name'] = ply_inf.text[0:ply_inf.text.find(plyr_dat['pref_pos'])-2].strip()\n",
    "    plyr_dat['age'] = int(data_str[:2])\n",
    "    plyr_dat['height'] = data_str[data_str.index(')') + 2:].split(' ')[0].replace('\\\"','')\n",
    "    plyr_dat['weight'] = data_str[data_str.index(')') + 2:].split(' ')[1]\n",
    "    return(plyr_dat)"
   ]
  },
  {
   "cell_type": "code",
   "execution_count": 9,
   "metadata": {},
   "outputs": [],
   "source": [
    "def gather_player_stats(soup):\n",
    "    # parse stats section and determine rating, potential, value, and wage\n",
    "    plyr_data = {}\n",
    "    plyr_val = soup.text[soup.text.find('€'):].split('\\n')[0]\n",
    "    info = re.findall('\\d+', soup.text)\n",
    "    plyr_data['rating'] = int(info[0])\n",
    "    plyr_data['potential'] = int(info[1])\n",
    "\n",
    "    # check units of their value\n",
    "    if 'M' in plyr_val:\n",
    "        plyr_data['value'] = int(float(plyr_val[1:plyr_val.index('M')])*1000000)\n",
    "    elif 'K' in plyr_val:\n",
    "        plyr_data['value'] = int(float(plyr_val[1:plyr_val.index('K')])*1000)\n",
    "\n",
    "    # wage is always given in thousands\n",
    "    plyr_data['wage'] = int(info[3])*1000\n",
    "    return(plyr_data)"
   ]
  },
  {
   "cell_type": "code",
   "execution_count": 10,
   "metadata": {},
   "outputs": [],
   "source": [
    "def get_player_details(soup):\n",
    "    # take in player url and build dictionary of player info\n",
    "    all_deets = {}\n",
    "    soup = soup_maker(soup)\n",
    "    \n",
    "    # gather basic name, height, weight stats\n",
    "    plyr_info = soup.find('div', {'class': 'player'})\n",
    "    all_deets.update(gather_basic_info(plyr_info))\n",
    "    \n",
    "    # gather rating, value, wage, etc\n",
    "    plyr_stats = soup.find('div', {'class': 'stats'})\n",
    "    all_deets.update(gather_player_stats(plyr_stats))\n",
    "    \n",
    "    return(all_deets)"
   ]
  },
  {
   "cell_type": "markdown",
   "metadata": {},
   "source": [
    "# Now let's create our dataframe"
   ]
  },
  {
   "cell_type": "code",
   "execution_count": 11,
   "metadata": {},
   "outputs": [],
   "source": [
    "def scrape_sofifa():\n",
    "    # completes entire scraping process, can take minutes to run\n",
    "    scraped_data = []\n",
    "    page_indexes = [i*60 for i in range(10)]\n",
    "    \n",
    "    # iterate across 100 different player pages\n",
    "    for page_index in page_indexes:\n",
    "        url = 'https://sofifa.com/players?offset=' + str(page_index)\n",
    "        soup = soup_maker(url)\n",
    "        \n",
    "        # gather all player details for this page\n",
    "        tbl = soup.find('table',{'class':'table table-hover persist-area'})\n",
    "        tbdy = tbl.find('tbody')\n",
    "        all_a = tbdy.find_all('a', {'rel':None})\n",
    "        player_details = {}\n",
    "        \n",
    "        # players are on every other index\n",
    "        for i, lnk in enumerate(all_a):\n",
    "            if i % 2 == 0:\n",
    "                player_details['short_name'] = lnk.text\n",
    "                player_details['link'] = 'http://sofifa.com' + lnk['href']\n",
    "                player_details.update(get_player_details('http://sofifa.com' + lnk['href']))\n",
    "                print(player_details)\n",
    "                scraped_data.append(player_details)\n",
    "    \n",
    "    return(scraped_data)"
   ]
  },
  {
   "cell_type": "code",
   "execution_count": null,
   "metadata": {},
   "outputs": [
    {
     "name": "stdout",
     "output_type": "stream",
     "text": [
      "{'short_name': 'L. Messi', 'link': 'http://sofifa.com/player/158023/lionel-messi/', 'pref_pos': 'CF', 'full_name': 'Lionel Messi (Lionel Andrés Messi Cuccittini)', 'age': 31, 'height': \"5'7\", 'weight': '159lbs', 'rating': 94, 'potential': 94, 'value': 110500000, 'wage': 5000}\n",
      "{'short_name': 'Cristiano Ronaldo', 'link': 'http://sofifa.com/player/20801/c-ronaldo-dos-santos-aveiro/', 'pref_pos': 'ST', 'full_name': 'C. Ronaldo dos Santos Aveiro (Cristiano Ronaldo dos Santos Aveiro)', 'age': 33, 'height': \"6'2\", 'weight': '183lbs', 'rating': 94, 'potential': 94, 'value': 77000000, 'wage': 405000}\n",
      "{'short_name': 'Neymar Jr', 'link': 'http://sofifa.com/player/190871/neymar-da-silva-santos-jr/', 'pref_pos': 'LW', 'full_name': 'Neymar da Silva Santos Jr. (Neymar da Silva Santos Junior)', 'age': 26, 'height': \"5'9\", 'weight': '150lbs', 'rating': 92, 'potential': 92, 'value': 108000000, 'wage': 290000}\n",
      "{'short_name': 'De Gea', 'link': 'http://sofifa.com/player/193080/david-de-gea-quintana/', 'pref_pos': 'GK', 'full_name': 'David De Gea Quintana', 'age': 27, 'height': \"6'4\", 'weight': '168lbs', 'rating': 91, 'potential': 93, 'value': 72000000, 'wage': 260000}\n",
      "{'short_name': 'K. De Bruyne', 'link': 'http://sofifa.com/player/192985/kevin-de-bruyne/', 'pref_pos': 'CAM', 'full_name': 'Kevin De Bruyne', 'age': 27, 'height': \"5'11\", 'weight': '154lbs', 'rating': 91, 'potential': 92, 'value': 102000000, 'wage': 355000}\n",
      "{'short_name': 'E. Hazard', 'link': 'http://sofifa.com/player/183277/eden-hazard/', 'pref_pos': 'LW', 'full_name': 'Eden Hazard', 'age': 27, 'height': \"5'8\", 'weight': '168lbs', 'rating': 91, 'potential': 91, 'value': 93000000, 'wage': 340000}\n",
      "{'short_name': 'L. Modrić', 'link': 'http://sofifa.com/player/177003/luka-modric/', 'pref_pos': 'CM', 'full_name': 'Luka Modrić', 'age': 32, 'height': \"5'8\", 'weight': '146lbs', 'rating': 91, 'potential': 91, 'value': 67000000, 'wage': 420000}\n",
      "{'short_name': 'L. Suárez', 'link': 'http://sofifa.com/player/176580/luis-suarez/', 'pref_pos': 'ST', 'full_name': 'Luis Suárez (Luis Alberto Suárez Díaz)', 'age': 31, 'height': \"6'0\", 'weight': '190lbs', 'rating': 91, 'potential': 91, 'value': 80000000, 'wage': 455000}\n",
      "{'short_name': 'H. Kane', 'link': 'http://sofifa.com/player/202126/harry-kane/', 'pref_pos': 'ST', 'full_name': 'Harry Kane', 'age': 24, 'height': \"6'2\", 'weight': '196lbs', 'rating': 90, 'potential': 92, 'value': 96500000, 'wage': 5000}\n",
      "{'short_name': 'J. Oblak', 'link': 'http://sofifa.com/player/200389/jan-oblak/', 'pref_pos': 'GK', 'full_name': 'Jan Oblak', 'age': 25, 'height': \"6'2\", 'weight': '192lbs', 'rating': 90, 'potential': 93, 'value': 68000000, 'wage': 94000}\n",
      "{'short_name': 'R. Lewandowski', 'link': 'http://sofifa.com/player/188545/robert-lewandowski/', 'pref_pos': 'ST', 'full_name': 'Robert Lewandowski', 'age': 29, 'height': \"6'0\", 'weight': '176lbs', 'rating': 90, 'potential': 90, 'value': 77000000, 'wage': 205000}\n",
      "{'short_name': 'T. Kroos', 'link': 'http://sofifa.com/player/182521/toni-kroos/', 'pref_pos': 'CM', 'full_name': 'Toni Kroos', 'age': 28, 'height': \"6'0\", 'weight': '168lbs', 'rating': 90, 'potential': 90, 'value': 76500000, 'wage': 5000}\n",
      "{'short_name': 'D. Godín', 'link': 'http://sofifa.com/player/182493/diego-godin/', 'pref_pos': 'CB', 'full_name': 'Diego Godín', 'age': 32, 'height': \"6'2\", 'weight': '172lbs', 'rating': 90, 'potential': 90, 'value': 44000000, 'wage': 125000}\n",
      "{'short_name': 'David Silva', 'link': 'http://sofifa.com/player/168542/david-josue-jimenez-silva/', 'pref_pos': 'CAM', 'full_name': 'David Josué Jiménez Silva', 'age': 32, 'height': \"5'8\", 'weight': '148lbs', 'rating': 90, 'potential': 90, 'value': 60000000, 'wage': 285000}\n",
      "{'short_name': 'Sergio Ramos', 'link': 'http://sofifa.com/player/155862/sergio-ramos-garcia/', 'pref_pos': 'CB', 'full_name': 'Sergio Ramos García', 'age': 32, 'height': \"6'0\", 'weight': '181lbs', 'rating': 90, 'potential': 90, 'value': 44000000, 'wage': 310000}\n",
      "{'short_name': 'G. Chiellini', 'link': 'http://sofifa.com/player/138956/giorgio-chiellini/', 'pref_pos': 'CB', 'full_name': 'Giorgio Chiellini', 'age': 33, 'height': \"6'2\", 'weight': '187lbs', 'rating': 90, 'potential': 90, 'value': 31000000, 'wage': 225000}\n",
      "{'short_name': 'N. Kanté', 'link': 'http://sofifa.com/player/215914/ngolo-kante/', 'pref_pos': 'CDM', 'full_name': \"N'Golo Kanté\", 'age': 27, 'height': \"5'6\", 'weight': '159lbs', 'rating': 89, 'potential': 90, 'value': 63000000, 'wage': 225000}\n",
      "{'short_name': 'P. Dybala', 'link': 'http://sofifa.com/player/211110/paulo-dybala/', 'pref_pos': 'CAM', 'full_name': 'Paulo Dybala (Paulo Bruno Exequiel Dybala)', 'age': 24, 'height': \"5'10\", 'weight': '165lbs', 'rating': 89, 'potential': 94, 'value': 89000000, 'wage': 205000}\n",
      "{'short_name': 'M. Salah', 'link': 'http://sofifa.com/player/209331/mohamed-salah/', 'pref_pos': 'RW', 'full_name': 'Mohamed Salah (Mohamed  Salah Ghaly)', 'age': 26, 'height': \"5'9\", 'weight': '157lbs', 'rating': 89, 'potential': 90, 'value': 78500000, 'wage': 5000}\n",
      "{'short_name': 'A. Griezmann', 'link': 'http://sofifa.com/player/194765/antoine-griezmann/', 'pref_pos': 'CF', 'full_name': 'Antoine Griezmann', 'age': 27, 'height': \"5'9\", 'weight': '161lbs', 'rating': 89, 'potential': 90, 'value': 78000000, 'wage': 145000}\n",
      "{'short_name': 'M. ter Stegen', 'link': 'http://sofifa.com/player/192448/marc-andre-ter-stegen/', 'pref_pos': 'GK', 'full_name': 'Marc-André ter Stegen', 'age': 26, 'height': \"6'2\", 'weight': '187lbs', 'rating': 89, 'potential': 92, 'value': 58000000, 'wage': 240000}\n",
      "{'short_name': 'T. Courtois', 'link': 'http://sofifa.com/player/192119/thibaut-courtois/', 'pref_pos': 'GK', 'full_name': 'Thibaut Courtois', 'age': 26, 'height': \"6'6\", 'weight': '212lbs', 'rating': 89, 'potential': 90, 'value': 53500000, 'wage': 5000}\n",
      "{'short_name': 'Sergio Busquets', 'link': 'http://sofifa.com/player/189511/sergio-busquets-burgos/', 'pref_pos': 'CDM', 'full_name': 'Sergio Busquets Burgos (Sergio Busquets i Burgos)', 'age': 29, 'height': \"6'2\", 'weight': '168lbs', 'rating': 89, 'potential': 89, 'value': 51500000, 'wage': 5000}\n",
      "{'short_name': 'E. Cavani', 'link': 'http://sofifa.com/player/179813/edinson-cavani/', 'pref_pos': 'ST', 'full_name': 'Edinson Cavani (Edinson Roberto Cavani Gómez)', 'age': 31, 'height': \"6'1\", 'weight': '170lbs', 'rating': 89, 'potential': 89, 'value': 60000000, 'wage': 200000}\n",
      "{'short_name': 'M. Neuer', 'link': 'http://sofifa.com/player/167495/manuel-neuer/', 'pref_pos': 'GK', 'full_name': 'Manuel Neuer', 'age': 32, 'height': \"6'4\", 'weight': '203lbs', 'rating': 89, 'potential': 89, 'value': 38000000, 'wage': 130000}\n",
      "{'short_name': 'S. Agüero', 'link': 'http://sofifa.com/player/153079/sergio-aguero/', 'pref_pos': 'ST', 'full_name': 'Sergio Agüero (Sergio Leonel Agüero del Castillo)', 'age': 30, 'height': \"5'8\", 'weight': '154lbs', 'rating': 89, 'potential': 89, 'value': 64500000, 'wage': 5000}\n",
      "{'short_name': 'K. Mbappé', 'link': 'http://sofifa.com/player/231747/kylian-mbappe/', 'pref_pos': 'RW', 'full_name': 'Kylian Mbappé', 'age': 19, 'height': \"5'10\", 'weight': '161lbs', 'rating': 88, 'potential': 95, 'value': 81000000, 'wage': 100000}\n",
      "{'short_name': 'V. van Dijk', 'link': 'http://sofifa.com/player/203376/virgil-van-dijk/', 'pref_pos': 'CB', 'full_name': 'Virgil van Dijk', 'age': 26, 'height': \"6'4\", 'weight': '203lbs', 'rating': 88, 'potential': 90, 'value': 59500000, 'wage': 5000}\n",
      "{'short_name': 'K. Koulibaly', 'link': 'http://sofifa.com/player/201024/kalidou-koulibaly/', 'pref_pos': 'CB', 'full_name': 'Kalidou Koulibaly', 'age': 27, 'height': \"6'2\", 'weight': '196lbs', 'rating': 88, 'potential': 91, 'value': 60000000, 'wage': 135000}\n",
      "{'short_name': 'L. Insigne', 'link': 'http://sofifa.com/player/198219/lorenzo-insigne/', 'pref_pos': 'LW', 'full_name': 'Lorenzo Insigne', 'age': 27, 'height': \"5'4\", 'weight': '130lbs', 'rating': 88, 'potential': 88, 'value': 62000000, 'wage': 165000}\n",
      "{'short_name': 'C. Eriksen', 'link': 'http://sofifa.com/player/190460/christian-eriksen/', 'pref_pos': 'CAM', 'full_name': 'Christian Eriksen (Christian  Dannemann Eriksen)', 'age': 26, 'height': \"5'11\", 'weight': '168lbs', 'rating': 88, 'potential': 89, 'value': 69500000, 'wage': 69000}\n",
      "{'short_name': 'Coutinho', 'link': 'http://sofifa.com/player/189242/philippe-coutinho-correia/', 'pref_pos': 'LW', 'full_name': 'Philippe Coutinho Correia', 'age': 26, 'height': \"5'8\", 'weight': '150lbs', 'rating': 88, 'potential': 89, 'value': 69500000, 'wage': 5000}\n"
     ]
    },
    {
     "name": "stdout",
     "output_type": "stream",
     "text": [
      "{'short_name': 'P. Aubameyang', 'link': 'http://sofifa.com/player/188567/pierre-emerick-aubameyang/', 'pref_pos': 'ST', 'full_name': 'Pierre-Emerick Aubameyang', 'age': 29, 'height': \"6'2\", 'weight': '176lbs', 'rating': 88, 'potential': 88, 'value': 59000000, 'wage': 265000}\n",
      "{'short_name': 'M. Reus', 'link': 'http://sofifa.com/player/188350/marco-reus/', 'pref_pos': 'CAM', 'full_name': 'Marco Reus', 'age': 29, 'height': \"5'11\", 'weight': '157lbs', 'rating': 88, 'potential': 88, 'value': 58000000, 'wage': 130000}\n",
      "{'short_name': 'M. Hummels', 'link': 'http://sofifa.com/player/178603/mats-hummels/', 'pref_pos': 'CB', 'full_name': 'Mats Hummels (Mats  Hummels)', 'age': 29, 'height': \"6'3\", 'weight': '203lbs', 'rating': 88, 'potential': 88, 'value': 46000000, 'wage': 160000}\n",
      "{'short_name': 'G. Bale', 'link': 'http://sofifa.com/player/173731/gareth-bale/', 'pref_pos': 'RW', 'full_name': 'Gareth Bale (Gareth Frank Bale)', 'age': 28, 'height': \"6'1\", 'weight': '181lbs', 'rating': 88, 'potential': 88, 'value': 60000000, 'wage': 355000}\n",
      "{'short_name': 'H. Lloris', 'link': 'http://sofifa.com/player/167948/hugo-lloris/', 'pref_pos': 'GK', 'full_name': 'Hugo Lloris', 'age': 31, 'height': \"6'2\", 'weight': '181lbs', 'rating': 88, 'potential': 88, 'value': 36000000, 'wage': 150000}\n",
      "{'short_name': 'Thiago Silva', 'link': 'http://sofifa.com/player/164240/thiago-emiliano-da-silva/', 'pref_pos': 'CB', 'full_name': 'Thiago Emiliano da Silva', 'age': 33, 'height': \"6'0\", 'weight': '181lbs', 'rating': 88, 'potential': 88, 'value': 24000000, 'wage': 165000}\n",
      "{'short_name': 'S. Handanovič', 'link': 'http://sofifa.com/player/162835/samir-handanovic/', 'pref_pos': 'GK', 'full_name': 'Samir Handanovič', 'age': 33, 'height': \"6'4\", 'weight': '203lbs', 'rating': 88, 'potential': 88, 'value': 30000000, 'wage': 110000}\n",
      "{'short_name': 'G. Buffon', 'link': 'http://sofifa.com/player/1179/gianluigi-buffon/', 'pref_pos': 'GK', 'full_name': 'Gianluigi Buffon', 'age': 40, 'height': \"6'4\", 'weight': '203lbs', 'rating': 88, 'potential': 88, 'value': 4000000, 'wage': 77000}\n",
      "{'short_name': 'Alisson', 'link': 'http://sofifa.com/player/212831/alisson-ramses-becker/', 'pref_pos': 'GK', 'full_name': 'Alisson Ramses Becker', 'age': 25, 'height': \"6'3\", 'weight': '201lbs', 'rating': 87, 'potential': 91, 'value': 46000000, 'wage': 135000}\n",
      "{'short_name': 'S. Umtiti', 'link': 'http://sofifa.com/player/205600/samuel-umtiti/', 'pref_pos': 'CB', 'full_name': 'Samuel Umtiti', 'age': 24, 'height': \"6'0\", 'weight': '165lbs', 'rating': 87, 'potential': 92, 'value': 57000000, 'wage': 205000}\n",
      "{'short_name': 'R. Sterling', 'link': 'http://sofifa.com/player/202652/raheem-sterling/', 'pref_pos': 'RW', 'full_name': 'Raheem Sterling', 'age': 23, 'height': \"5'7\", 'weight': '152lbs', 'rating': 87, 'potential': 89, 'value': 62000000, 'wage': 210000}\n",
      "{'short_name': 'M. Icardi', 'link': 'http://sofifa.com/player/201399/mauro-icardi/', 'pref_pos': 'ST', 'full_name': 'Mauro Icardi (Mauro Emanuel Icardi Rivero)', 'age': 25, 'height': \"5'11\", 'weight': '165lbs', 'rating': 87, 'potential': 90, 'value': 64500000, 'wage': 5000}\n",
      "{'short_name': 'Casemiro', 'link': 'http://sofifa.com/player/200145/carlos-henrique-venancio-casimiro/', 'pref_pos': 'CDM', 'full_name': 'Carlos Henrique Venancio Casimiro (Carlos Henrique Casimiro)', 'age': 26, 'height': \"6'1\", 'weight': '185lbs', 'rating': 87, 'potential': 89, 'value': 50500000, 'wage': 5000}\n",
      "{'short_name': 'J. Rodríguez', 'link': 'http://sofifa.com/player/198710/james-rodriguez/', 'pref_pos': 'CAM', 'full_name': 'James Rodríguez (James David Rodríguez Rubio)', 'age': 26, 'height': \"5'11\", 'weight': '172lbs', 'rating': 87, 'potential': 88, 'value': 59000000, 'wage': 260000}\n",
      "{'short_name': 'Isco', 'link': 'http://sofifa.com/player/197781/francisco-roman-alarcon-suarez/', 'pref_pos': 'CAM', 'full_name': 'Francisco Román Alarcón Suárez', 'age': 26, 'height': \"5'9\", 'weight': '174lbs', 'rating': 87, 'potential': 90, 'value': 62500000, 'wage': 5000}\n",
      "{'short_name': 'P. Pogba', 'link': 'http://sofifa.com/player/195864/paul-pogba/', 'pref_pos': 'CM', 'full_name': 'Paul Pogba', 'age': 25, 'height': \"6'3\", 'weight': '185lbs', 'rating': 87, 'potential': 91, 'value': 64000000, 'wage': 210000}\n",
      "{'short_name': 'K. Navas', 'link': 'http://sofifa.com/player/193041/keylor-navas/', 'pref_pos': 'GK', 'full_name': 'Keylor Navas', 'age': 31, 'height': \"6'1\", 'weight': '176lbs', 'rating': 87, 'potential': 87, 'value': 30500000, 'wage': 5000}\n",
      "{'short_name': 'C. Immobile', 'link': 'http://sofifa.com/player/192387/ciro-immobile/', 'pref_pos': 'ST', 'full_name': 'Ciro Immobile', 'age': 28, 'height': \"6'1\", 'weight': '187lbs', 'rating': 87, 'potential': 87, 'value': 52000000, 'wage': 115000}\n",
      "{'short_name': 'Thiago', 'link': 'http://sofifa.com/player/189509/thiago-alcantara/', 'pref_pos': 'CM', 'full_name': 'Thiago Alcântara (Thiago Alcântara do Nascimento)', 'age': 27, 'height': \"5'9\", 'weight': '154lbs', 'rating': 87, 'potential': 87, 'value': 51500000, 'wage': 5000}\n",
      "{'short_name': 'Jordi Alba', 'link': 'http://sofifa.com/player/189332/jordi-alba-ramos/', 'pref_pos': 'LB', 'full_name': 'Jordi Alba Ramos', 'age': 29, 'height': \"5'7\", 'weight': '150lbs', 'rating': 87, 'potential': 87, 'value': 38000000, 'wage': 250000}\n",
      "{'short_name': 'T. Alderweireld', 'link': 'http://sofifa.com/player/184087/toby-alderweireld/', 'pref_pos': 'CB', 'full_name': 'Toby Alderweireld', 'age': 29, 'height': \"6'1\", 'weight': '179lbs', 'rating': 87, 'potential': 88, 'value': 44000000, 'wage': 165000}\n",
      "{'short_name': 'Marcelo', 'link': 'http://sofifa.com/player/176676/marcelo-vieira-da-silva/', 'pref_pos': 'LB', 'full_name': 'Marcelo Vieira da Silva (Marcelo Vieira da Silva Júnior)', 'age': 30, 'height': \"5'9\", 'weight': '176lbs', 'rating': 87, 'potential': 87, 'value': 36500000, 'wage': 5000}\n",
      "{'short_name': 'D. Mertens', 'link': 'http://sofifa.com/player/175943/dries-mertens/', 'pref_pos': 'CF', 'full_name': 'Dries Mertens', 'age': 31, 'height': \"5'7\", 'weight': '134lbs', 'rating': 87, 'potential': 87, 'value': 45000000, 'wage': 135000}\n",
      "{'short_name': 'J. Vertonghen', 'link': 'http://sofifa.com/player/172871/jan-vertonghen/', 'pref_pos': 'CB', 'full_name': 'Jan Vertonghen', 'age': 31, 'height': \"6'2\", 'weight': '190lbs', 'rating': 87, 'potential': 87, 'value': 34000000, 'wage': 155000}\n",
      "{'short_name': 'I. Rakitić', 'link': 'http://sofifa.com/player/168651/ivan-rakitic/', 'pref_pos': 'CM', 'full_name': 'Ivan Rakitić', 'age': 30, 'height': \"6'0\", 'weight': '172lbs', 'rating': 87, 'potential': 87, 'value': 46500000, 'wage': 5000}\n",
      "{'short_name': 'G. Higuaín', 'link': 'http://sofifa.com/player/167664/gonzalo-higuain/', 'pref_pos': 'ST', 'full_name': 'Gonzalo Higuaín (Gonzalo Gerardo Higuaín)', 'age': 30, 'height': \"6'1\", 'weight': '196lbs', 'rating': 87, 'potential': 87, 'value': 48500000, 'wage': 5000}\n",
      "{'short_name': 'Piqué', 'link': 'http://sofifa.com/player/152729/gerard-pique-bernabeu/', 'pref_pos': 'CB', 'full_name': 'Gerard Piqué Bernabeu (Gerard Piqué Bernabéu)', 'age': 31, 'height': \"6'4\", 'weight': '187lbs', 'rating': 87, 'potential': 87, 'value': 34000000, 'wage': 240000}\n",
      "{'short_name': 'Fernandinho', 'link': 'http://sofifa.com/player/135507/fernando-luiz-rosa/', 'pref_pos': 'CDM', 'full_name': 'Fernando Luiz Rosa', 'age': 33, 'height': \"5'10\", 'weight': '148lbs', 'rating': 87, 'potential': 87, 'value': 20500000, 'wage': 5000}\n",
      "{'short_name': 'M. Škriniar', 'link': 'http://sofifa.com/player/232363/milan-skriniar/', 'pref_pos': 'CB', 'full_name': 'Milan Škriniar', 'age': 23, 'height': \"6'2\", 'weight': '176lbs', 'rating': 86, 'potential': 93, 'value': 53500000, 'wage': 5000}\n",
      "{'short_name': 'M. Škriniar', 'link': 'http://sofifa.com/player/232363/milan-skriniar/', 'pref_pos': 'CB', 'full_name': 'Milan Škriniar', 'age': 23, 'height': \"6'2\", 'weight': '176lbs', 'rating': 86, 'potential': 93, 'value': 53500000, 'wage': 5000}\n",
      "{'short_name': 'L. Sané', 'link': 'http://sofifa.com/player/222492/leroy-sane/', 'pref_pos': 'LW', 'full_name': 'Leroy Sané', 'age': 22, 'height': \"6'0\", 'weight': '165lbs', 'rating': 86, 'potential': 92, 'value': 61000000, 'wage': 195000}\n",
      "{'short_name': 'Bernardo Silva', 'link': 'http://sofifa.com/player/218667/bernardo-mota-carvalho-e-silva/', 'pref_pos': 'CAM', 'full_name': 'Bernardo Mota Carvalho e Silva (Bernardo Mota Veiga de Carvalho e Silva)', 'age': 23, 'height': \"5'8\", 'weight': '141lbs', 'rating': 86, 'potential': 91, 'value': 59500000, 'wage': 5000}\n"
     ]
    },
    {
     "name": "stdout",
     "output_type": "stream",
     "text": [
      "{'short_name': 'J. Kimmich', 'link': 'http://sofifa.com/player/212622/joshua-kimmich/', 'pref_pos': 'RB', 'full_name': 'Joshua Kimmich', 'age': 23, 'height': \"5'9\", 'weight': '154lbs', 'rating': 86, 'potential': 88, 'value': 45000000, 'wage': 100000}\n",
      "{'short_name': 'Ederson', 'link': 'http://sofifa.com/player/210257/ederson-santana-de-moraes/', 'pref_pos': 'GK', 'full_name': 'Ederson Santana de Moraes', 'age': 24, 'height': \"6'2\", 'weight': '190lbs', 'rating': 86, 'potential': 90, 'value': 41500000, 'wage': 5000}\n",
      "{'short_name': 'S. Mané', 'link': 'http://sofifa.com/player/208722/sadio-mane/', 'pref_pos': 'LW', 'full_name': 'Sadio Mané', 'age': 26, 'height': \"5'9\", 'weight': '152lbs', 'rating': 86, 'potential': 87, 'value': 52000000, 'wage': 195000}\n",
      "{'short_name': 'Roberto Firmino', 'link': 'http://sofifa.com/player/201942/roberto-firmino-barbosa-de-oliveira/', 'pref_pos': 'CF', 'full_name': 'Roberto Firmino Barbosa de Oliveira', 'age': 26, 'height': \"5'11\", 'weight': '168lbs', 'rating': 86, 'potential': 87, 'value': 53000000, 'wage': 195000}\n",
      "{'short_name': 'R. Varane', 'link': 'http://sofifa.com/player/201535/raphael-varane/', 'pref_pos': 'CB', 'full_name': 'Raphaël Varane', 'age': 25, 'height': \"6'3\", 'weight': '179lbs', 'rating': 86, 'potential': 91, 'value': 50000000, 'wage': 210000}\n",
      "{'short_name': 'M. Verratti', 'link': 'http://sofifa.com/player/199556/marco-verratti/', 'pref_pos': 'CM', 'full_name': 'Marco Verratti', 'age': 25, 'height': \"5'5\", 'weight': '132lbs', 'rating': 86, 'potential': 89, 'value': 55000000, 'wage': 135000}\n",
      "{'short_name': 'R. Lukaku', 'link': 'http://sofifa.com/player/192505/romelu-lukaku/', 'pref_pos': 'ST', 'full_name': 'Romelu Lukaku', 'age': 25, 'height': \"6'3\", 'weight': '207lbs', 'rating': 86, 'potential': 88, 'value': 55000000, 'wage': 215000}\n",
      "{'short_name': 'Alex Sandro', 'link': 'http://sofifa.com/player/191043/alex-sandro-lobo-silva/', 'pref_pos': 'LB', 'full_name': 'Alex Sandro Lobo Silva', 'age': 27, 'height': \"5'11\", 'weight': '176lbs', 'rating': 86, 'potential': 86, 'value': 36500000, 'wage': 5000}\n",
      "{'short_name': 'T. Müller', 'link': 'http://sofifa.com/player/189596/thomas-muller/', 'pref_pos': 'CAM', 'full_name': 'Thomas Müller', 'age': 28, 'height': \"6'1\", 'weight': '165lbs', 'rating': 86, 'potential': 86, 'value': 45000000, 'wage': 135000}\n",
      "{'short_name': 'W. Szczęsny', 'link': 'http://sofifa.com/player/186153/wojciech-szczesny/', 'pref_pos': 'GK', 'full_name': 'Wojciech Szczęsny (Wojciech  Szczęsny)', 'age': 28, 'height': \"6'5\", 'weight': '198lbs', 'rating': 86, 'potential': 88, 'value': 37000000, 'wage': 135000}\n",
      "{'short_name': 'Azpilicueta', 'link': 'http://sofifa.com/player/184432/cesar-azpilicueta-tanco/', 'pref_pos': 'RB', 'full_name': 'César Azpilicueta Tanco', 'age': 28, 'height': \"5'10\", 'weight': '168lbs', 'rating': 86, 'potential': 86, 'value': 35000000, 'wage': 175000}\n",
      "{'short_name': 'L. Bonucci', 'link': 'http://sofifa.com/player/184344/leonardo-bonucci/', 'pref_pos': 'CB', 'full_name': 'Leonardo Bonucci', 'age': 31, 'height': \"6'3\", 'weight': '187lbs', 'rating': 86, 'potential': 86, 'value': 30000000, 'wage': 160000}\n",
      "{'short_name': 'M. Pjanić', 'link': 'http://sofifa.com/player/180206/miralem-pjanic/', 'pref_pos': 'CM', 'full_name': 'Miralem Pjanić', 'age': 28, 'height': \"5'10\", 'weight': '159lbs', 'rating': 86, 'potential': 86, 'value': 44000000, 'wage': 180000}\n",
      "{'short_name': 'M. Hamšík', 'link': 'http://sofifa.com/player/171877/marek-hamsik/', 'pref_pos': 'CM', 'full_name': 'Marek Hamšík', 'age': 30, 'height': \"6'0\", 'weight': '174lbs', 'rating': 86, 'potential': 86, 'value': 41000000, 'wage': 115000}\n",
      "{'short_name': 'S. Milinković-Savić', 'link': 'http://sofifa.com/player/223848/sergej-milinkovic-savic/', 'pref_pos': 'CM', 'full_name': 'Sergej Milinković-Savić', 'age': 23, 'height': \"6'3\", 'weight': '168lbs', 'rating': 85, 'potential': 90, 'value': 50500000, 'wage': 5000}\n",
      "{'short_name': 'D. Alli', 'link': 'http://sofifa.com/player/211117/dele-alli/', 'pref_pos': 'CAM', 'full_name': 'Dele Alli (Bamidele Alli)', 'age': 22, 'height': \"6'2\", 'weight': '176lbs', 'rating': 85, 'potential': 90, 'value': 51500000, 'wage': 5000}\n",
      "{'short_name': 'Saúl', 'link': 'http://sofifa.com/player/208421/saul-niguez-esclapez/', 'pref_pos': 'CM', 'full_name': 'Saúl Ñíguez Esclápez (Saúl Ñíguez Esclapez)', 'age': 23, 'height': \"6'0\", 'weight': '170lbs', 'rating': 85, 'potential': 90, 'value': 50500000, 'wage': 5000}\n",
      "{'short_name': 'Marquinhos', 'link': 'http://sofifa.com/player/207865/marcos-aoas-correa/', 'pref_pos': 'CB', 'full_name': 'Marcos Aoás Corrêa (Marcos  Aoás Corrêa)', 'age': 24, 'height': \"6'0\", 'weight': '165lbs', 'rating': 85, 'potential': 90, 'value': 43500000, 'wage': 5000}\n",
      "{'short_name': 'Carvajal', 'link': 'http://sofifa.com/player/204963/daniel-carvajal-ramos/', 'pref_pos': 'RB', 'full_name': 'Daniel Carvajal Ramos', 'age': 26, 'height': \"5'8\", 'weight': '161lbs', 'rating': 85, 'potential': 86, 'value': 36500000, 'wage': 5000}\n",
      "{'short_name': 'R. Mahrez', 'link': 'http://sofifa.com/player/204485/riyad-mahrez/', 'pref_pos': 'RW', 'full_name': 'Riyad Mahrez', 'age': 27, 'height': \"5'10\", 'weight': '148lbs', 'rating': 85, 'potential': 85, 'value': 40500000, 'wage': 5000}\n",
      "{'short_name': 'H. Son', 'link': 'http://sofifa.com/player/200104/heung-min-son/', 'pref_pos': 'LM', 'full_name': '손흥민 孙兴慜 (Heung-Min Son)', 'age': 25, 'height': \"6'0\", 'weight': '143lbs', 'rating': 85, 'potential': 86, 'value': 46000000, 'wage': 140000}\n",
      "{'short_name': 'Koke', 'link': 'http://sofifa.com/player/193747/jorge-resurreccion/', 'pref_pos': 'LM', 'full_name': 'Jorge Resurrección (Jorge Resurrección Merodio)', 'age': 26, 'height': \"5'9\", 'weight': '163lbs', 'rating': 85, 'potential': 85, 'value': 41500000, 'wage': 5000}\n",
      "{'short_name': 'A. Lacazette', 'link': 'http://sofifa.com/player/193301/alexandre-lacazette/', 'pref_pos': 'ST', 'full_name': 'Alexandre Lacazette', 'age': 27, 'height': \"5'9\", 'weight': '161lbs', 'rating': 85, 'potential': 86, 'value': 45000000, 'wage': 180000}\n",
      "{'short_name': 'K. Manolas', 'link': 'http://sofifa.com/player/192774/kostas-manolas/', 'pref_pos': 'CB', 'full_name': 'Kostas Manolas', 'age': 27, 'height': \"6'2\", 'weight': '183lbs', 'rating': 85, 'potential': 86, 'value': 36500000, 'wage': 5000}\n",
      "{'short_name': 'N. Otamendi', 'link': 'http://sofifa.com/player/192366/nicolas-otamendi/', 'pref_pos': 'CB', 'full_name': 'Nicolás Otamendi (Nicolás Hernán Otamendi)', 'age': 30, 'height': \"6'0\", 'weight': '179lbs', 'rating': 85, 'potential': 85, 'value': 28500000, 'wage': 5000}\n",
      "{'short_name': 'Douglas Costa', 'link': 'http://sofifa.com/player/190483/douglas-costa-de-souza/', 'pref_pos': 'LM', 'full_name': 'Douglas Costa de Souza', 'age': 27, 'height': \"5'8\", 'weight': '154lbs', 'rating': 85, 'potential': 85, 'value': 40500000, 'wage': 5000}\n",
      "{'short_name': 'Parejo', 'link': 'http://sofifa.com/player/189513/daniel-parejo-munoz/', 'pref_pos': 'CM', 'full_name': 'Daniel Parejo Muñoz', 'age': 29, 'height': \"6'0\", 'weight': '163lbs', 'rating': 85, 'potential': 85, 'value': 37000000, 'wage': 66000}\n",
      "{'short_name': 'Paulinho', 'link': 'http://sofifa.com/player/187961/jose-paulo-bezerra-m-junior/', 'pref_pos': 'CM', 'full_name': 'José Paulo Bezerra M. Júnior (José Paulo Bezzera Maciel Júnior)', 'age': 29, 'height': \"6'0\", 'weight': '157lbs', 'rating': 85, 'potential': 85, 'value': 37000000, 'wage': 39000}\n"
     ]
    }
   ],
   "source": [
    "import pandas as pd\n",
    "df = pd.DataFrame(scrape_sofifa())\n",
    "df.to_csv('scraped_sofifa.csv', index=False)"
   ]
  },
  {
   "cell_type": "code",
   "execution_count": null,
   "metadata": {},
   "outputs": [],
   "source": []
  }
 ],
 "metadata": {
  "kernelspec": {
   "display_name": "Python 3",
   "language": "python",
   "name": "python3"
  },
  "language_info": {
   "codemirror_mode": {
    "name": "ipython",
    "version": 3
   },
   "file_extension": ".py",
   "mimetype": "text/x-python",
   "name": "python",
   "nbconvert_exporter": "python",
   "pygments_lexer": "ipython3",
   "version": "3.7.0"
  }
 },
 "nbformat": 4,
 "nbformat_minor": 2
}
